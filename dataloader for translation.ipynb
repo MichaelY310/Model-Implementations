{
 "cells": [
  {
   "cell_type": "code",
   "execution_count": 1,
   "id": "bffd080c",
   "metadata": {},
   "outputs": [],
   "source": [
    "import torch\n",
    "import torch.nn as nn\n",
    "import torch.nn.functional as F\n",
    "from torch.nn.parameter import Parameter\n",
    "from datasets import load_dataset\n",
    "import datasets\n",
    "from transformers import AutoTokenizer"
   ]
  },
  {
   "cell_type": "code",
   "execution_count": 3,
   "id": "68d4bff1",
   "metadata": {},
   "outputs": [],
   "source": [
    "dataset = load_dataset(\"opus_books\", \"en-fr\")[\"train\"] # Take the training part of the dataset\n",
    "dataset = dataset.train_test_split(test_size=0.2)      # Split the dataset into \"train\" and \"test\"\n",
    "tokenizer = AutoTokenizer.from_pretrained(\"t5-small\")  # Get the tokenizer"
   ]
  },
  {
   "cell_type": "code",
   "execution_count": 4,
   "id": "8aae1221",
   "metadata": {},
   "outputs": [
    {
     "data": {
      "application/vnd.jupyter.widget-view+json": {
       "model_id": "4e82628c9a954211a52ef31365aee913",
       "version_major": 2,
       "version_minor": 0
      },
      "text/plain": [
       "Map:   0%|          | 0/101668 [00:00<?, ? examples/s]"
      ]
     },
     "metadata": {},
     "output_type": "display_data"
    },
    {
     "data": {
      "application/vnd.jupyter.widget-view+json": {
       "model_id": "b99235f4b0c446c4931f65c1d3d175a6",
       "version_major": 2,
       "version_minor": 0
      },
      "text/plain": [
       "Map:   0%|          | 0/25417 [00:00<?, ? examples/s]"
      ]
     },
     "metadata": {},
     "output_type": "display_data"
    }
   ],
   "source": [
    "# make the tokenize_function\n",
    "def tokenize_function(dataset):\n",
    "    input_outputs = dataset[\"translation\"]\n",
    "    inputs = [input_output[\"en\"] for input_output in input_outputs]  # pull out all the \"en\" from dictionaries\n",
    "    outputs = [input_output[\"fr\"] for input_output in input_outputs]\n",
    "    return tokenizer(inputs, text_target=outputs, truncation=True, max_length=128, padding=\"max_length\")\n",
    "    # by specifying \"text_target\", tokenizer will generate \"label\" that is the token list for target text\n",
    "\n",
    "tokenized_dataset = dataset.map(tokenize_function, batched=True)"
   ]
  },
  {
   "cell_type": "code",
   "execution_count": 12,
   "id": "d6e7b81e",
   "metadata": {},
   "outputs": [
    {
     "name": "stdout",
     "output_type": "stream",
     "text": [
      "{'input_ids': [3, 115, 3, 115, 3, 115, 1, 0, 0, 0, 0, 0, 0, 0, 0, 0, 0, 0, 0, 0, 0, 0, 0, 0, 0, 0, 0, 0, 0, 0, 0, 0, 0, 0, 0, 0, 0, 0, 0, 0, 0, 0, 0, 0, 0, 0, 0, 0, 0, 0, 0, 0, 0, 0, 0, 0, 0, 0, 0, 0, 0, 0, 0, 0, 0, 0, 0, 0, 0, 0, 0, 0, 0, 0, 0, 0, 0, 0, 0, 0, 0, 0, 0, 0, 0, 0, 0, 0, 0, 0, 0, 0, 0, 0, 0, 0, 0, 0, 0, 0, 0, 0, 0, 0, 0, 0, 0, 0, 0, 0, 0, 0, 0, 0, 0, 0, 0, 0, 0, 0, 0, 0, 0, 0, 0, 0, 0, 0], 'attention_mask': [1, 1, 1, 1, 1, 1, 1, 0, 0, 0, 0, 0, 0, 0, 0, 0, 0, 0, 0, 0, 0, 0, 0, 0, 0, 0, 0, 0, 0, 0, 0, 0, 0, 0, 0, 0, 0, 0, 0, 0, 0, 0, 0, 0, 0, 0, 0, 0, 0, 0, 0, 0, 0, 0, 0, 0, 0, 0, 0, 0, 0, 0, 0, 0, 0, 0, 0, 0, 0, 0, 0, 0, 0, 0, 0, 0, 0, 0, 0, 0, 0, 0, 0, 0, 0, 0, 0, 0, 0, 0, 0, 0, 0, 0, 0, 0, 0, 0, 0, 0, 0, 0, 0, 0, 0, 0, 0, 0, 0, 0, 0, 0, 0, 0, 0, 0, 0, 0, 0, 0, 0, 0, 0, 0, 0, 0, 0, 0], 'labels': [13634, 3, 115, 115, 115, 1, 0, 0, 0, 0, 0, 0, 0, 0, 0, 0, 0, 0, 0, 0, 0, 0, 0, 0, 0, 0, 0, 0, 0, 0, 0, 0, 0, 0, 0, 0, 0, 0, 0, 0, 0, 0, 0, 0, 0, 0, 0, 0, 0, 0, 0, 0, 0, 0, 0, 0, 0, 0, 0, 0, 0, 0, 0, 0, 0, 0, 0, 0, 0, 0, 0, 0, 0, 0, 0, 0, 0, 0, 0, 0, 0, 0, 0, 0, 0, 0, 0, 0, 0, 0, 0, 0, 0, 0, 0, 0, 0, 0, 0, 0, 0, 0, 0, 0, 0, 0, 0, 0, 0, 0, 0, 0, 0, 0, 0, 0, 0, 0, 0, 0, 0, 0, 0, 0, 0, 0, 0, 0]}\n"
     ]
    }
   ],
   "source": [
    "print(tokenizer(\"b b b\", text_target=\"banana bbb\", truncation=True, max_length=128, padding=\"max_length\"))"
   ]
  },
  {
   "cell_type": "code",
   "execution_count": 5,
   "id": "a8abb138",
   "metadata": {},
   "outputs": [],
   "source": [
    "# Make a smaller dataset\n",
    "\n",
    "small_train_dataset = tokenized_dataset[\"train\"].shuffle(seed=42).select(range(1000))\n",
    "small_eval_dataset = tokenized_dataset[\"test\"].shuffle(seed=42).select(range(1000))"
   ]
  },
  {
   "cell_type": "code",
   "execution_count": 6,
   "id": "3106dff3",
   "metadata": {},
   "outputs": [
    {
     "name": "stdout",
     "output_type": "stream",
     "text": [
      "Dataset({\n",
      "    features: ['id', 'translation', 'input_ids', 'attention_mask', 'labels'],\n",
      "    num_rows: 1000\n",
      "})\n",
      "46721\n",
      "[4163, 7377, 3, 7361, 4125, 6, 4644, 924, 11, 3550, 10812, 15, 26, 5, 1, 0, 0, 0, 0, 0, 0, 0, 0, 0, 0, 0, 0, 0, 0, 0, 0, 0, 0, 0, 0, 0, 0, 0, 0, 0, 0, 0, 0, 0, 0, 0, 0, 0, 0, 0, 0, 0, 0, 0, 0, 0, 0, 0, 0, 0, 0, 0, 0, 0, 0, 0, 0, 0, 0, 0, 0, 0, 0, 0, 0, 0, 0, 0, 0, 0, 0, 0, 0, 0, 0, 0, 0, 0, 0, 0, 0, 0, 0, 0, 0, 0, 0, 0, 0, 0, 0, 0, 0, 0, 0, 0, 0, 0, 0, 0, 0, 0, 0, 0, 0, 0, 0, 0, 0, 0, 0, 0, 0, 0, 0, 0, 0, 0]\n",
      "Felton remained standing, motionless and undecided.\n",
      "[4163, 7377, 340, 1238, 9, 155, 20, 4076, 17, 6, 256, 14814, 3, 15, 17, 16, 3764, 75, 159, 5, 1, 0, 0, 0, 0, 0, 0, 0, 0, 0, 0, 0, 0, 0, 0, 0, 0, 0, 0, 0, 0, 0, 0, 0, 0, 0, 0, 0, 0, 0, 0, 0, 0, 0, 0, 0, 0, 0, 0, 0, 0, 0, 0, 0, 0, 0, 0, 0, 0, 0, 0, 0, 0, 0, 0, 0, 0, 0, 0, 0, 0, 0, 0, 0, 0, 0, 0, 0, 0, 0, 0, 0, 0, 0, 0, 0, 0, 0, 0, 0, 0, 0, 0, 0, 0, 0, 0, 0, 0, 0, 0, 0, 0, 0, 0, 0, 0, 0, 0, 0, 0, 0, 0, 0, 0, 0, 0, 0]\n",
      "Felton demeurait debout, immobile et indécis.\n",
      "[1, 1, 1, 1, 1, 1, 1, 1, 1, 1, 1, 1, 1, 1, 1, 0, 0, 0, 0, 0, 0, 0, 0, 0, 0, 0, 0, 0, 0, 0, 0, 0, 0, 0, 0, 0, 0, 0, 0, 0, 0, 0, 0, 0, 0, 0, 0, 0, 0, 0, 0, 0, 0, 0, 0, 0, 0, 0, 0, 0, 0, 0, 0, 0, 0, 0, 0, 0, 0, 0, 0, 0, 0, 0, 0, 0, 0, 0, 0, 0, 0, 0, 0, 0, 0, 0, 0, 0, 0, 0, 0, 0, 0, 0, 0, 0, 0, 0, 0, 0, 0, 0, 0, 0, 0, 0, 0, 0, 0, 0, 0, 0, 0, 0, 0, 0, 0, 0, 0, 0, 0, 0, 0, 0, 0, 0, 0, 0]\n",
      "[1, 1, 1, 1, 1, 1, 1, 1, 1, 1, 0, 0, 0, 0, 0, 0, 0, 0, 0, 0, 0, 0, 0, 0, 0, 0, 0, 0, 0, 0, 0, 0, 0, 0, 0, 0, 0, 0, 0, 0, 0, 0, 0, 0, 0, 0, 0, 0, 0, 0, 0, 0, 0, 0, 0, 0, 0, 0, 0, 0, 0, 0, 0, 0, 0, 0, 0, 0, 0, 0, 0, 0, 0, 0, 0, 0, 0, 0, 0, 0, 0, 0, 0, 0, 0, 0, 0, 0, 0, 0, 0, 0, 0, 0, 0, 0, 0, 0, 0, 0, 0, 0, 0, 0, 0, 0, 0, 0, 0, 0, 0, 0, 0, 0, 0, 0, 0, 0, 0, 0, 0, 0, 0, 0, 0, 0, 0, 0]\n"
     ]
    }
   ],
   "source": [
    "print(small_train_dataset)\n",
    "print(small_train_dataset[\"id\"][0])\n",
    "print(small_train_dataset[\"input_ids\"][0])\n",
    "print(small_train_dataset[\"translation\"][0][\"en\"])\n",
    "\n",
    "print(small_train_dataset[\"labels\"][0])\n",
    "print(small_train_dataset[\"translation\"][0][\"fr\"])\n",
    "\n",
    "print(small_train_dataset[\"attention_mask\"][0])\n",
    "print(small_train_dataset[\"attention_mask\"][1])"
   ]
  },
  {
   "cell_type": "markdown",
   "id": "27637d18",
   "metadata": {},
   "source": [
    "You have to convert input_ids, labels, and attention_mask to tensors. \n",
    "Otherwise, the stupid pytorch dataloader will cut it to batch_size."
   ]
  },
  {
   "cell_type": "code",
   "execution_count": 140,
   "id": "57262145",
   "metadata": {},
   "outputs": [],
   "source": [
    "class MyCustomDataset(torch.utils.data.Dataset):\n",
    "    def __init__(self, your_data_here):\n",
    "        self.data = your_data_here\n",
    "\n",
    "    def __len__(self):\n",
    "        return self.data.num_rows\n",
    "\n",
    "    def __getitem__(self, idx):\n",
    "        return {\n",
    "            'id': self.data['id'][idx],\n",
    "            'translation': self.data['translation'][idx],\n",
    "            'input_ids': torch.tensor(self.data['input_ids'][idx]),\n",
    "            'labels': torch.tensor(self.data['labels'][idx]),\n",
    "            'attention_mask': torch.tensor(self.data['attention_mask'][idx]),\n",
    "        }\n",
    "    \n",
    "# Finally create the dataloader\n",
    "train_dataset = MyCustomDataset(small_train_dataset)\n",
    "train_dataloader = torch.utils.data.DataLoader(train_dataset, batch_size=32)"
   ]
  },
  {
   "cell_type": "code",
   "execution_count": 2,
   "id": "1dcf00fe",
   "metadata": {},
   "outputs": [
    {
     "ename": "NameError",
     "evalue": "name 'train_dataloader' is not defined",
     "output_type": "error",
     "traceback": [
      "\u001b[1;31m---------------------------------------------------------------------------\u001b[0m",
      "\u001b[1;31mNameError\u001b[0m                                 Traceback (most recent call last)",
      "Cell \u001b[1;32mIn[2], line 1\u001b[0m\n\u001b[1;32m----> 1\u001b[0m \u001b[38;5;28;01mfor\u001b[39;00m i, data_batch \u001b[38;5;129;01min\u001b[39;00m \u001b[38;5;28menumerate\u001b[39m(\u001b[43mtrain_dataloader\u001b[49m):\n\u001b[0;32m      2\u001b[0m     \u001b[38;5;28mprint\u001b[39m(data_batch\u001b[38;5;241m.\u001b[39mkeys())\n\u001b[0;32m      4\u001b[0m     index          \u001b[38;5;241m=\u001b[39m   data_batch[\u001b[38;5;124m\"\u001b[39m\u001b[38;5;124mid\u001b[39m\u001b[38;5;124m\"\u001b[39m]\n",
      "\u001b[1;31mNameError\u001b[0m: name 'train_dataloader' is not defined"
     ]
    }
   ],
   "source": [
    "for i, data_batch in enumerate(train_dataloader):\n",
    "    print(data_batch.keys())\n",
    "    \n",
    "    index          =   data_batch[\"id\"]\n",
    "    english        =   data_batch[\"translation\"][\"en\"]\n",
    "    french         =   data_batch[\"translation\"][\"fr\"]\n",
    "    source_token   =   data_batch[\"input_ids\"]\n",
    "    target_token   =   data_batch[\"labels\"]\n",
    "    masks          =   data_batch[\"attention_mask\"]\n",
    "    \n",
    "    print(index[0])\n",
    "    print(english[0])\n",
    "    print(french[0])\n",
    "    print(source_token[0])\n",
    "    print(target_token[0])\n",
    "    print(masks[0])\n",
    "    \n",
    "    break"
   ]
  },
  {
   "cell_type": "markdown",
   "id": "4362a591",
   "metadata": {},
   "source": [
    "All together:"
   ]
  },
  {
   "cell_type": "code",
   "execution_count": null,
   "id": "cc26f217",
   "metadata": {},
   "outputs": [],
   "source": [
    "import torch\n",
    "import torch.nn as nn\n",
    "import torch.nn.functional as F\n",
    "from torch.nn.parameter import Parameter\n",
    "from datasets import load_dataset\n",
    "import datasets\n",
    "from transformers import AutoTokenizer\n",
    "\n",
    "dataset = load_dataset(\"opus_books\", \"en-fr\")[\"train\"] # Take the training part of the dataset\n",
    "dataset = dataset.train_test_split(test_size=0.2)      # Split the dataset into \"train\" and \"test\"\n",
    "tokenizer = AutoTokenizer.from_pretrained(\"t5-small\")  # Get the tokenizer\n",
    "\n",
    "# make the tokenize_function\n",
    "def tokenize_function(dataset):\n",
    "    input_outputs = dataset[\"translation\"]\n",
    "    inputs = [input_output[\"en\"] for input_output in input_outputs]\n",
    "    outputs = [input_output[\"fr\"] for input_output in input_outputs]\n",
    "    return tokenizer(inputs, text_target=outputs, truncation=True, max_length=128, padding=\"max_length\")\n",
    "\n",
    "tokenized_dataset = dataset.map(tokenize_function, batched=True)\n",
    "\n",
    "# Make a smaller dataset\n",
    "small_train_dataset = tokenized_dataset[\"train\"].shuffle(seed=42).select(range(1000))\n",
    "small_eval_dataset = tokenized_dataset[\"test\"].shuffle(seed=42).select(range(1000))\n",
    "\n",
    "\n",
    "class MyCustomDataset(torch.utils.data.Dataset):\n",
    "    def __init__(self, your_data_here):\n",
    "        self.data = your_data_here\n",
    "\n",
    "    def __len__(self):\n",
    "        return self.data.num_rows\n",
    "\n",
    "    def __getitem__(self, idx):\n",
    "        return {\n",
    "            'id': self.data['id'][idx],\n",
    "            'translation': self.data['translation'][idx],\n",
    "            'input_ids': torch.tensor(self.data['input_ids'][idx]),\n",
    "            'labels': torch.tensor(self.data['labels'][idx]),\n",
    "            'attention_mask': torch.tensor(self.data['attention_mask'][idx]),\n",
    "        }\n",
    "    \n",
    "# Finally create the dataloader\n",
    "train_dataset = MyCustomDataset(small_train_dataset)\n",
    "train_dataloader = torch.utils.data.DataLoader(train_dataset, batch_size=32)\n",
    "\n",
    "\n",
    "for i, data_batch in enumerate(train_dataloader):\n",
    "    index          =   data_batch[\"id\"]\n",
    "    english        =   data_batch[\"translation\"][\"en\"]\n",
    "    french         =   data_batch[\"translation\"][\"fr\"]\n",
    "    source_token   =   data_batch[\"input_ids\"]\n",
    "    target_token   =   data_batch[\"labels\"]\n",
    "    masks          =   data_batch[\"attention_mask\"]"
   ]
  }
 ],
 "metadata": {
  "kernelspec": {
   "display_name": "pytorch",
   "language": "python",
   "name": "pytorch"
  },
  "language_info": {
   "codemirror_mode": {
    "name": "ipython",
    "version": 3
   },
   "file_extension": ".py",
   "mimetype": "text/x-python",
   "name": "python",
   "nbconvert_exporter": "python",
   "pygments_lexer": "ipython3",
   "version": "3.10.8"
  }
 },
 "nbformat": 4,
 "nbformat_minor": 5
}
