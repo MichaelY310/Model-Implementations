{
 "cells": [
  {
   "cell_type": "code",
   "execution_count": 2,
   "id": "eb130227",
   "metadata": {},
   "outputs": [],
   "source": [
    "import torch\n",
    "import torch.nn as nn\n",
    "import torch.nn.functional as F"
   ]
  },
  {
   "cell_type": "markdown",
   "id": "40e72085",
   "metadata": {},
   "source": [
    "# *Sin Cos 1D Embedding*"
   ]
  },
  {
   "cell_type": "code",
   "execution_count": 34,
   "id": "64ade50a",
   "metadata": {},
   "outputs": [
    {
     "name": "stdout",
     "output_type": "stream",
     "text": [
      "tensor([[ 0.0000,  1.0000,  0.0000],\n",
      "        [ 0.8415,  0.5403,  0.8415],\n",
      "        [ 0.9093, -0.4161,  0.9093],\n",
      "        [ 0.1411, -0.9900,  0.1411],\n",
      "        [-0.7568, -0.6536, -0.7568]])\n"
     ]
    }
   ],
   "source": [
    "def GetPositionEmbedding(sequence_len, embedding_len):\n",
    "    div = 10000 ** (torch.arange(0, embedding_len // 2) * 2 / embedding_len)\n",
    "    positions = torch.arange(0, sequence_len).unsqueeze(1)\n",
    "    pos_emb = torch.zeros(sequence_len, embedding_len)\n",
    "    pos_emb[:, 0::2] = torch.sin(positions / div)\n",
    "    pos_emb[:, 1::2] = torch.cos(positions / div)\n",
    "    return pos_emb\n",
    "\n",
    "print(GetPositionEmbedding(5, 3))"
   ]
  },
  {
   "cell_type": "markdown",
   "id": "e9ea0b92",
   "metadata": {},
   "source": [
    "# *Trainable 1D Embedding*"
   ]
  },
  {
   "cell_type": "code",
   "execution_count": 8,
   "id": "a303700c",
   "metadata": {},
   "outputs": [
    {
     "name": "stdout",
     "output_type": "stream",
     "text": [
      "Parameter containing:\n",
      "tensor([[0., 0., 0.],\n",
      "        [0., 0., 0.],\n",
      "        [0., 0., 0.],\n",
      "        [0., 0., 0.],\n",
      "        [0., 0., 0.]], requires_grad=True)\n"
     ]
    }
   ],
   "source": [
    "def GetPositionEmbedding(sequence_len, embedding_len):\n",
    "    pos_emb = nn.Embedding(sequence_len, embedding_len).weight\n",
    "    nn.init.constant_(pos_emb, 0.0)\n",
    "    return pos_emb\n",
    "\n",
    "print(GetPositionEmbedding(5, 3))"
   ]
  },
  {
   "cell_type": "markdown",
   "id": "797c87da",
   "metadata": {},
   "source": [
    "# *Sin Cos 2D Embedding*"
   ]
  },
  {
   "cell_type": "code",
   "execution_count": 43,
   "id": "aae3c271",
   "metadata": {},
   "outputs": [
    {
     "name": "stdout",
     "output_type": "stream",
     "text": [
      "tensor([[ 0.0000,  1.0000,  0.0000,  1.0000],\n",
      "        [ 0.8415,  0.5403,  0.0000,  1.0000],\n",
      "        [ 0.9093, -0.4161,  0.0000,  1.0000],\n",
      "        [ 0.1411, -0.9900,  0.0000,  1.0000],\n",
      "        [-0.7568, -0.6536,  0.0000,  1.0000],\n",
      "        [ 0.0000,  1.0000,  0.8415,  0.5403],\n",
      "        [ 0.8415,  0.5403,  0.8415,  0.5403],\n",
      "        [ 0.9093, -0.4161,  0.8415,  0.5403],\n",
      "        [ 0.1411, -0.9900,  0.8415,  0.5403],\n",
      "        [-0.7568, -0.6536,  0.8415,  0.5403],\n",
      "        [ 0.0000,  1.0000,  0.9093, -0.4161],\n",
      "        [ 0.8415,  0.5403,  0.9093, -0.4161],\n",
      "        [ 0.9093, -0.4161,  0.9093, -0.4161],\n",
      "        [ 0.1411, -0.9900,  0.9093, -0.4161],\n",
      "        [-0.7568, -0.6536,  0.9093, -0.4161],\n",
      "        [ 0.0000,  1.0000,  0.1411, -0.9900],\n",
      "        [ 0.8415,  0.5403,  0.1411, -0.9900],\n",
      "        [ 0.9093, -0.4161,  0.1411, -0.9900],\n",
      "        [ 0.1411, -0.9900,  0.1411, -0.9900],\n",
      "        [-0.7568, -0.6536,  0.1411, -0.9900],\n",
      "        [ 0.0000,  1.0000, -0.7568, -0.6536],\n",
      "        [ 0.8415,  0.5403, -0.7568, -0.6536],\n",
      "        [ 0.9093, -0.4161, -0.7568, -0.6536],\n",
      "        [ 0.1411, -0.9900, -0.7568, -0.6536],\n",
      "        [-0.7568, -0.6536, -0.7568, -0.6536]])\n"
     ]
    }
   ],
   "source": [
    "# Now it takes in index instead of just length\n",
    "def GetPositionEmbedding1D(sequence_indices, embedding_len):\n",
    "    div = 10000 ** (torch.arange(0, embedding_len // 2) * 2 / embedding_len)\n",
    "    positions = sequence_indices.unsqueeze(1)\n",
    "    pos_emb = torch.zeros(sequence_indices.shape[0], embedding_len)\n",
    "    pos_emb[:, 0::2] = torch.sin(positions / div)\n",
    "    pos_emb[:, 1::2] = torch.cos(positions / div)\n",
    "    return pos_emb\n",
    "\n",
    "def GetPositionEmbedding2D(image_size, embedding_dim):\n",
    "    pos_emb = torch.zeros(image_size*image_size, embedding_dim)\n",
    "    coord = torch.stack(torch.meshgrid(torch.arange(0, image_size), torch.arange(0, image_size))) # 2 * W * H\n",
    "    coord = coord.view(coord.shape[0], -1)\n",
    "    height_embedding = GetPositionEmbedding1D(coord[0], embedding_dim // 2)  # embedding for 0000111122223333\n",
    "    width_embedding = GetPositionEmbedding1D(coord[1], embedding_dim // 2)   # embedding for 0123012301230123\n",
    "    pos_emb[:, embedding_dim//2:] = height_embedding\n",
    "    pos_emb[:, :embedding_dim//2] = width_embedding\n",
    "    # Now each embedding has both width and height information\n",
    "    \n",
    "    return pos_emb\n",
    "    \n",
    "print(GetPositionEmbedding2D(5, 4))"
   ]
  },
  {
   "cell_type": "markdown",
   "id": "fbb40dd8",
   "metadata": {},
   "source": [
    "# *Relative Bias 2D Embedding*"
   ]
  },
  {
   "cell_type": "code",
   "execution_count": 32,
   "id": "87c636c5",
   "metadata": {},
   "outputs": [
    {
     "name": "stdout",
     "output_type": "stream",
     "text": [
      "tensor([[12, 11, 10,  7,  6,  5,  2,  1,  0],\n",
      "        [13, 12, 11,  8,  7,  6,  3,  2,  1],\n",
      "        [14, 13, 12,  9,  8,  7,  4,  3,  2],\n",
      "        [17, 16, 15, 12, 11, 10,  7,  6,  5],\n",
      "        [18, 17, 16, 13, 12, 11,  8,  7,  6],\n",
      "        [19, 18, 17, 14, 13, 12,  9,  8,  7],\n",
      "        [22, 21, 20, 17, 16, 15, 12, 11, 10],\n",
      "        [23, 22, 21, 18, 17, 16, 13, 12, 11],\n",
      "        [24, 23, 22, 19, 18, 17, 14, 13, 12]])\n"
     ]
    }
   ],
   "source": [
    "# Used in Vit attention\n",
    "# q*kT + B  (B: embedding)\n",
    "def GetPositionEmbedding(image_size, embedding_len):\n",
    "    coord = torch.stack(torch.meshgrid(torch.arange(0, image_size), torch.arange(0, image_size)))\n",
    "    \n",
    "    \n",
    "    \n",
    "    coord = coord.view(coord.shape[0], -1)\n",
    "        \n",
    "    bias = coord[:, :, None] - coord[:, None, :] + image_size - 1\n",
    "    return bias[0] * ((image_size-1) * 2 + 1) + bias[1]\n",
    "    \n",
    "    \n",
    "print(GetPositionEmbedding(9, 3))"
   ]
  }
 ],
 "metadata": {
  "kernelspec": {
   "display_name": "pytorch",
   "language": "python",
   "name": "pytorch"
  },
  "language_info": {
   "codemirror_mode": {
    "name": "ipython",
    "version": 3
   },
   "file_extension": ".py",
   "mimetype": "text/x-python",
   "name": "python",
   "nbconvert_exporter": "python",
   "pygments_lexer": "ipython3",
   "version": "3.10.8"
  }
 },
 "nbformat": 4,
 "nbformat_minor": 5
}
